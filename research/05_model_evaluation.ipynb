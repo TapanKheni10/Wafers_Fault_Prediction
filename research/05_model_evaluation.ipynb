{
 "cells": [
  {
   "cell_type": "code",
   "execution_count": 1,
   "metadata": {},
   "outputs": [
    {
     "data": {
      "text/plain": [
       "'/Users/tapankheni/Data_Science/Data Science Projects/Wafers_Fault_Prediction'"
      ]
     },
     "execution_count": 1,
     "metadata": {},
     "output_type": "execute_result"
    }
   ],
   "source": [
    "import os\n",
    "os.chdir(\"../\")\n",
    "%pwd"
   ]
  },
  {
   "cell_type": "code",
   "execution_count": 2,
   "metadata": {},
   "outputs": [],
   "source": [
    "from dataclasses import dataclass\n",
    "from pathlib import Path\n",
    "\n",
    "@dataclass(frozen=True)\n",
    "class ModelEvaluationConfig:\n",
    "    root_dir: Path\n",
    "    x_test_data_path: Path\n",
    "    y_test_data_path: Path\n",
    "    model_path: Path\n",
    "    metrics_name: str"
   ]
  },
  {
   "cell_type": "code",
   "execution_count": 3,
   "metadata": {},
   "outputs": [],
   "source": [
    "from WafersFault.constants import PARAMS_YAML_FILE_PATH, CONFIG_YAML_FILE_PATH, SCHEMA_YAML_FILE_PATH\n",
    "from WafersFault.utils.common import read_yaml, create_directories, save_json"
   ]
  },
  {
   "cell_type": "code",
   "execution_count": 9,
   "metadata": {},
   "outputs": [],
   "source": [
    "class ConfigurationManager:\n",
    "    def __init__(\n",
    "        self,\n",
    "        config_filepath = CONFIG_YAML_FILE_PATH,\n",
    "        params_filepath = PARAMS_YAML_FILE_PATH,\n",
    "        schema_filepath = SCHEMA_YAML_FILE_PATH):\n",
    "\n",
    "        self.config = read_yaml(config_filepath)\n",
    "        self.params = read_yaml(params_filepath)\n",
    "        self.schema = read_yaml(schema_filepath)\n",
    "\n",
    "        create_directories([self.config.artifacts_root])\n",
    "\n",
    "\n",
    "    def get_model_evaluation_config(self) -> ModelEvaluationConfig:\n",
    "        config = self.config.model_evaluation\n",
    "\n",
    "        create_directories([config.root_dir])\n",
    "\n",
    "        model_evaluation_config = ModelEvaluationConfig(\n",
    "            root_dir=config.root_dir,\n",
    "            x_test_data_path=config.x_test_data_path,\n",
    "            y_test_data_path=config.y_test_data_path,\n",
    "            model_path=config.model_path,\n",
    "            metrics_name=config.metrics_name\n",
    "        )\n",
    "\n",
    "        return model_evaluation_config"
   ]
  },
  {
   "cell_type": "code",
   "execution_count": 10,
   "metadata": {},
   "outputs": [],
   "source": [
    "import numpy as np\n",
    "import pandas as pd\n",
    "from sklearn.metrics import precision_score, recall_score, f1_score, accuracy_score\n",
    "import joblib\n",
    "from WafersFault import logger"
   ]
  },
  {
   "cell_type": "code",
   "execution_count": 17,
   "metadata": {},
   "outputs": [],
   "source": [
    "class ModelEvaluation:\n",
    "    def __init__(self, config: ModelEvaluationConfig) -> None:\n",
    "        self.config = config\n",
    "\n",
    "    def eval_matrix(self, y_true, y_pred):\n",
    "        precision = precision_score(y_true=y_true, y_pred=y_pred)\n",
    "        recall = recall_score(y_true=y_true, y_pred=y_pred)\n",
    "        f1 = f1_score(y_true=y_true, y_pred=y_pred)\n",
    "        accuracy = accuracy_score(y_true=y_true, y_pred=y_pred)\n",
    "        return precision, recall, f1, accuracy\n",
    "    \n",
    "    def save_matrix(self):\n",
    "        X_test = np.load(self.config.x_test_data_path)\n",
    "        y_test = np.load(self.config.y_test_data_path)\n",
    "\n",
    "        model = joblib.load(self.config.model_path)\n",
    "\n",
    "        y_pred = model.predict(X_test)\n",
    "\n",
    "        (precision, recall, f1, accuracy) = self.eval_matrix(y_pred=y_pred, y_true=y_test)\n",
    "\n",
    "        if accuracy < 0.5:\n",
    "            raise Exception(\"no best model found with an accuracy more than the threshold 0.6.\")\n",
    "        \n",
    "        logger.info(\"best model found on both training and testing data\")\n",
    "        \n",
    "        scores = {\n",
    "            \"precision\": precision,\n",
    "            \"recall\": recall,\n",
    "            \"f1_score\": f1,\n",
    "            \"accuracy_score\": accuracy\n",
    "        }\n",
    "\n",
    "        save_json(path=Path(os.path.join(self.config.root_dir, self.config.metrics_name)), data=scores)"
   ]
  },
  {
   "cell_type": "code",
   "execution_count": 18,
   "metadata": {},
   "outputs": [
    {
     "name": "stdout",
     "output_type": "stream",
     "text": [
      "[2024-03-12 13:04:41,416: INFO: common: yaml file: config/config.yaml loaded successfully]\n",
      "[2024-03-12 13:04:41,418: INFO: common: yaml file: params.yaml loaded successfully]\n",
      "[2024-03-12 13:04:41,456: INFO: common: yaml file: schema.yaml loaded successfully]\n",
      "[2024-03-12 13:04:41,460: INFO: common: created directory at: artifacts]\n",
      "[2024-03-12 13:04:41,461: INFO: common: created directory at: artifacts/model_evaluation]\n",
      "[2024-03-12 13:04:41,477: INFO: common: json file saved at: artifacts/model_evaluation/metrics.json]\n"
     ]
    }
   ],
   "source": [
    "try:\n",
    "    config = ConfigurationManager()\n",
    "    model_evaluation_config = config.get_model_evaluation_config()\n",
    "    obj = ModelEvaluation(config=model_evaluation_config)\n",
    "    obj.save_matrix()\n",
    "\n",
    "except Exception as e:\n",
    "    raise e"
   ]
  },
  {
   "cell_type": "code",
   "execution_count": null,
   "metadata": {},
   "outputs": [],
   "source": []
  }
 ],
 "metadata": {
  "kernelspec": {
   "display_name": "waferspred",
   "language": "python",
   "name": "python3"
  },
  "language_info": {
   "codemirror_mode": {
    "name": "ipython",
    "version": 3
   },
   "file_extension": ".py",
   "mimetype": "text/x-python",
   "name": "python",
   "nbconvert_exporter": "python",
   "pygments_lexer": "ipython3",
   "version": "3.8.18"
  }
 },
 "nbformat": 4,
 "nbformat_minor": 2
}
