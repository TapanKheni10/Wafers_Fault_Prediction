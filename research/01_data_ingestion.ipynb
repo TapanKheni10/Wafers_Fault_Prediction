{
 "cells": [
  {
   "cell_type": "code",
   "execution_count": 1,
   "metadata": {},
   "outputs": [
    {
     "data": {
      "text/plain": [
       "'/Users/tapankheni/Data_Science/Data Science Projects/Wafers_Fault_Prediction'"
      ]
     },
     "execution_count": 1,
     "metadata": {},
     "output_type": "execute_result"
    }
   ],
   "source": [
    "import os\n",
    "os.chdir(\"../\")\n",
    "%pwd"
   ]
  },
  {
   "cell_type": "code",
   "execution_count": 2,
   "metadata": {},
   "outputs": [],
   "source": [
    "from dataclasses import dataclass\n",
    "from pathlib import Path\n",
    "\n",
    "@dataclass(frozen=True)\n",
    "class DataIngestionConfig:\n",
    "    root_dir: Path\n",
    "    local_data_file: Path"
   ]
  },
  {
   "cell_type": "code",
   "execution_count": 3,
   "metadata": {},
   "outputs": [],
   "source": [
    "from WafersFault.constants import CONFIG_YAML_FILE_PATH, PARAMS_YAML_FILE_PATH, SCHEMA_YAML_FILE_PATH, MONGO_DB_URL, MONGO_DB_COLLECTION_NAME, MONGO_DB_DATABASE_NAME\n",
    "from WafersFault.utils.common import read_yaml, create_directories"
   ]
  },
  {
   "cell_type": "code",
   "execution_count": 4,
   "metadata": {},
   "outputs": [],
   "source": [
    "class ConfigurationManager:\n",
    "    def __init__(self, \n",
    "                 config_filepath=CONFIG_YAML_FILE_PATH,\n",
    "                 params_filepath=PARAMS_YAML_FILE_PATH, \n",
    "                 schema_filepath=SCHEMA_YAML_FILE_PATH):\n",
    "        \n",
    "        self.config = read_yaml(config_filepath)\n",
    "        self.params = read_yaml(params_filepath)\n",
    "        self.schema = read_yaml(schema_filepath)\n",
    "\n",
    "        create_directories([self.config.artifacts_root])\n",
    "\n",
    "    def get_data_ingestion_config(self) -> DataIngestionConfig:\n",
    "        config = self.config.data_ingestion\n",
    "\n",
    "        create_directories([config.root_dir])\n",
    "\n",
    "        data_ingestion_config = DataIngestionConfig(\n",
    "            root_dir=config.root_dir,\n",
    "            local_data_file=config.local_data_file,\n",
    "        )\n",
    "\n",
    "        return data_ingestion_config"
   ]
  },
  {
   "cell_type": "code",
   "execution_count": 5,
   "metadata": {},
   "outputs": [],
   "source": [
    "import pandas as pd\n",
    "import numpy as np\n",
    "import sys\n",
    "from pymongo import MongoClient\n",
    "from WafersFault import logger\n",
    "from WafersFault.utils.common import get_size"
   ]
  },
  {
   "cell_type": "code",
   "execution_count": 7,
   "metadata": {},
   "outputs": [],
   "source": [
    "class DataIngestion:\n",
    "    def __init__(self, config: DataIngestionConfig):\n",
    "        self.config = config\n",
    "\n",
    "    def export_collection_as_dataframe(self) -> pd.DataFrame:\n",
    "        logger.info(\"retrieving data from mongoDB as dataframe\")\n",
    "\n",
    "        mongo_client = MongoClient(MONGO_DB_URL)\n",
    "\n",
    "        collection = mongo_client[MONGO_DB_DATABASE_NAME][MONGO_DB_COLLECTION_NAME]\n",
    "\n",
    "        df = pd.DataFrame(list(collection.find()))\n",
    "\n",
    "        logger.info(df.columns)\n",
    "\n",
    "        if \"_id\" in df.columns.to_list():\n",
    "            df.drop(columns=[\"_id\"], axis=1, inplace=True)\n",
    "\n",
    "        logger.info(df.columns)\n",
    "\n",
    "        df.replace({\"na\": np.nan}, inplace=True)\n",
    "\n",
    "        logger.info(\"data retrieval completed\")\n",
    "\n",
    "        return df\n",
    "    \n",
    "    def export_data_into_feature_store_file_path(self) -> None:\n",
    "        logger.info(\"Exporting data from mongoDB to store it into the desired artifacts\")\n",
    "\n",
    "        sensor_data = self.export_collection_as_dataframe()\n",
    "        logger.info(f\"saving exported data into feature store file path: {self.config.root_dir}\")\n",
    "\n",
    "        if not os.path.exists(self.config.local_data_file):\n",
    "            sensor_data.to_csv(self.config.local_data_file, index=False)\n",
    "\n",
    "            logger.info(f\"exported data from mongoDB stored at {self.config.local_data_file}\")\n",
    "        else:\n",
    "            logger.info(f\"file already exists of size: {get_size(Path(self.config.local_data_file))}\")\n",
    "\n",
    "\n",
    "    def initiate_data_ingestion(self) -> None:\n",
    "        logger.info(\"data ingestion component initiated\")\n",
    "\n",
    "        self.export_data_into_feature_store_file_path()\n",
    "\n",
    "        logger.info(f\"data ingestion component completed\")\n",
    "\n"
   ]
  },
  {
   "cell_type": "code",
   "execution_count": 9,
   "metadata": {},
   "outputs": [
    {
     "name": "stdout",
     "output_type": "stream",
     "text": [
      "[2024-03-12 05:45:07,270: INFO: common: yaml file: config/config.yaml loaded successfully]\n",
      "[2024-03-12 05:45:07,272: INFO: common: yaml file: params.yaml loaded successfully]\n",
      "[2024-03-12 05:45:07,308: INFO: common: yaml file: schema.yaml loaded successfully]\n",
      "[2024-03-12 05:45:07,313: INFO: common: created directory at: artifacts]\n",
      "[2024-03-12 05:45:07,313: INFO: common: created directory at: artifacts/data_ingestion]\n",
      "[2024-03-12 05:45:07,314: INFO: 2183419248: data ingestion component initiated]\n",
      "[2024-03-12 05:45:07,314: INFO: 2183419248: Exporting data from mongoDB to store it into the desired artifacts]\n",
      "[2024-03-12 05:45:07,314: INFO: 2183419248: retrieving data from mongoDB as dataframe]\n",
      "[2024-03-12 05:45:09,437: INFO: 2183419248: Index(['_id', 'Sensor-1', 'Sensor-2', 'Sensor-3', 'Sensor-4', 'Sensor-5',\n",
      "       'Sensor-6', 'Sensor-7', 'Sensor-8', 'Sensor-9',\n",
      "       ...\n",
      "       'Sensor-582', 'Sensor-583', 'Sensor-584', 'Sensor-585', 'Sensor-586',\n",
      "       'Sensor-587', 'Sensor-588', 'Sensor-589', 'Sensor-590', 'Good/Bad'],\n",
      "      dtype='object', length=592)]\n",
      "[2024-03-12 05:45:09,438: INFO: 2183419248: Index(['Sensor-1', 'Sensor-2', 'Sensor-3', 'Sensor-4', 'Sensor-5', 'Sensor-6',\n",
      "       'Sensor-7', 'Sensor-8', 'Sensor-9', 'Sensor-10',\n",
      "       ...\n",
      "       'Sensor-582', 'Sensor-583', 'Sensor-584', 'Sensor-585', 'Sensor-586',\n",
      "       'Sensor-587', 'Sensor-588', 'Sensor-589', 'Sensor-590', 'Good/Bad'],\n",
      "      dtype='object', length=591)]\n",
      "[2024-03-12 05:45:09,439: INFO: 2183419248: data retrieval completed]\n",
      "[2024-03-12 05:45:09,441: INFO: 2183419248: saving exported data into feature store file path: artifacts/data_ingestion]\n",
      "[2024-03-12 05:45:09,441: INFO: 2183419248: file already exists of size: ~ 363 KB]\n",
      "[2024-03-12 05:45:09,441: INFO: 2183419248: data ingestion component completed]\n"
     ]
    }
   ],
   "source": [
    "try:\n",
    "    config = ConfigurationManager()\n",
    "    data_ingestion_config = config.get_data_ingestion_config()\n",
    "    obj = DataIngestion(config=data_ingestion_config)\n",
    "    obj.initiate_data_ingestion()\n",
    "except Exception as e:\n",
    "    raise e"
   ]
  },
  {
   "cell_type": "code",
   "execution_count": null,
   "metadata": {},
   "outputs": [],
   "source": []
  }
 ],
 "metadata": {
  "kernelspec": {
   "display_name": "waferspred",
   "language": "python",
   "name": "python3"
  },
  "language_info": {
   "codemirror_mode": {
    "name": "ipython",
    "version": 3
   },
   "file_extension": ".py",
   "mimetype": "text/x-python",
   "name": "python",
   "nbconvert_exporter": "python",
   "pygments_lexer": "ipython3",
   "version": "3.8.18"
  }
 },
 "nbformat": 4,
 "nbformat_minor": 2
}
