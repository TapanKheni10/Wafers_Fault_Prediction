{
 "cells": [
  {
   "cell_type": "code",
   "execution_count": 1,
   "metadata": {},
   "outputs": [
    {
     "data": {
      "text/plain": [
       "'/Users/tapankheni/Data_Science/Data Science Projects/Wafers_Fault_Prediction'"
      ]
     },
     "execution_count": 1,
     "metadata": {},
     "output_type": "execute_result"
    }
   ],
   "source": [
    "import os\n",
    "os.chdir(\"../\")\n",
    "%pwd"
   ]
  },
  {
   "cell_type": "code",
   "execution_count": 2,
   "metadata": {},
   "outputs": [],
   "source": [
    "from dataclasses import dataclass\n",
    "from pathlib import Path\n",
    "\n",
    "@dataclass(frozen=True)\n",
    "class ModelTrainerConfig:\n",
    "    root_dir: Path\n",
    "    x_train_data_path: Path\n",
    "    y_train_data_path: Path\n",
    "    model_name: str\n",
    "    params: dict"
   ]
  },
  {
   "cell_type": "code",
   "execution_count": 3,
   "metadata": {},
   "outputs": [],
   "source": [
    "from WafersFault.constants import CONFIG_YAML_FILE_PATH, PARAMS_YAML_FILE_PATH, SCHEMA_YAML_FILE_PATH\n",
    "from WafersFault.utils.common import read_yaml, create_directories, save_json"
   ]
  },
  {
   "cell_type": "code",
   "execution_count": 4,
   "metadata": {},
   "outputs": [],
   "source": [
    "class ConfigurationManager:\n",
    "    def __init__(\n",
    "        self,\n",
    "        config_filepath = CONFIG_YAML_FILE_PATH,\n",
    "        params_filepath = PARAMS_YAML_FILE_PATH,\n",
    "        schema_filepath = SCHEMA_YAML_FILE_PATH):\n",
    "\n",
    "        self.config = read_yaml(config_filepath)\n",
    "        self.params = read_yaml(params_filepath)\n",
    "        self.schema = read_yaml(schema_filepath)\n",
    "\n",
    "        create_directories([self.config.artifacts_root])\n",
    "\n",
    "    def get_model_trainer_config(self) -> ModelTrainerConfig:\n",
    "        config = self.config.model_trainer\n",
    "        params = self.params\n",
    "\n",
    "        create_directories([config.root_dir])\n",
    "\n",
    "        model_trainer_config = ModelTrainerConfig(\n",
    "            root_dir=config.root_dir,\n",
    "            x_train_data_path=config.x_train_data_path,\n",
    "            y_train_data_path=config.y_train_data_path,\n",
    "            model_name=config.model_name,\n",
    "            params=params,\n",
    "        )\n",
    "    \n",
    "        return model_trainer_config"
   ]
  },
  {
   "cell_type": "code",
   "execution_count": 2,
   "metadata": {},
   "outputs": [],
   "source": [
    "import pandas as pd\n",
    "import numpy as np\n",
    "import joblib\n",
    "from sklearn.ensemble import RandomForestClassifier, GradientBoostingClassifier\n",
    "from xgboost import XGBClassifier\n",
    "from sklearn.svm import SVC\n",
    "from WafersFault import logger\n",
    "from sklearn.metrics import f1_score, precision_score, recall_score, roc_auc_score, accuracy_score\n",
    "from sklearn.model_selection import train_test_split\n",
    "from sklearn.model_selection import GridSearchCV\n"
   ]
  },
  {
   "cell_type": "code",
   "execution_count": 6,
   "metadata": {},
   "outputs": [],
   "source": [
    "class ModelTrainer:\n",
    "    def __init__(self, config: ModelTrainerConfig) -> None:\n",
    "        self.config = config\n",
    "        self.models = {\n",
    "            \"RandomForestClassifier\" : RandomForestClassifier(),\n",
    "            \"GradientBoostingClassifier\" : GradientBoostingClassifier(),\n",
    "            \"XGBClassifier\" : XGBClassifier(),\n",
    "            \"SVC\" : SVC()\n",
    "        }\n",
    "\n",
    "    def evaluate_models(self, X, y, models) -> dict:\n",
    "\n",
    "        X_train, X_test, y_train, y_test = train_test_split(X, y, test_size=0.2, random_state=32)\n",
    "\n",
    "        model_performances = {}\n",
    "\n",
    "        for i in range(len(list(models))):\n",
    "            model = list(models.values())[i]\n",
    "\n",
    "            model.fit(X_train, y_train)\n",
    "            \n",
    "            y_pred = model.predict(X_test)\n",
    "\n",
    "            test_score = accuracy_score(y_test, y_pred)\n",
    "            model_performances[list(models.keys())[i]] = test_score\n",
    "\n",
    "        return model_performances\n",
    "    \n",
    "    def finetune_model(self, best_model, best_model_name, X_train, y_train) -> object:\n",
    "\n",
    "        model = best_model\n",
    "\n",
    "        params_grid = self.config.params[\"model_selection\"][\"model\"][best_model_name][\"search_param_grid\"]\n",
    "\n",
    "        grid_search = GridSearchCV(\n",
    "            best_model, param_grid=params_grid, cv=5, n_jobs=-1, verbose=1 \n",
    "        )\n",
    "\n",
    "        grid_search.fit(X_train, y_train)\n",
    "\n",
    "        best_params = grid_search.best_params_\n",
    "\n",
    "        print(f\"best params are: {best_params}\")\n",
    "\n",
    "        fintuned_model = best_model.set_params(**best_params)\n",
    "\n",
    "        return fintuned_model\n",
    "\n",
    "    def train(self):\n",
    "\n",
    "        logger.info(\"fetching train data from the given path.\")\n",
    "        X_train = np.load(self.config.x_train_data_path)\n",
    "        y_train = np.load(self.config.y_train_data_path)\n",
    "        logger.info(\"fetching of train data done.\")\n",
    "\n",
    "        logger.info(f\"Shape of X_train: {X_train.shape}\")\n",
    "        logger.info(f\"Shape of y_train: {y_train.shape}\")\n",
    "\n",
    "        model_report = self.evaluate_models(X_train, y_train, self.models)\n",
    "\n",
    "        ## getting the best model score\n",
    "        best_model_score = max(sorted(model_report.values()))\n",
    "        logger.info(f\"best model score: {best_model_score}\")\n",
    "\n",
    "        ## gettin the best model name from the dictionary\n",
    "        best_model_name = list(model_report.keys())[list(model_report.values()).index(best_model_score)]\n",
    "        logger.info(f\"best model name: {best_model_name}\")\n",
    "\n",
    "        ## getting the model object to finetune it\n",
    "        best_model = self.models[best_model_name]\n",
    "        \n",
    "        model = self.finetune_model(\n",
    "            best_model=best_model,\n",
    "            best_model_name=best_model_name,\n",
    "            X_train=X_train,\n",
    "            y_train=y_train\n",
    "        )\n",
    "\n",
    "        joblib.dump(model, os.path.join(self.config.root_dir, self.config.model_name))"
   ]
  },
  {
   "cell_type": "code",
   "execution_count": 7,
   "metadata": {},
   "outputs": [
    {
     "name": "stdout",
     "output_type": "stream",
     "text": [
      "[2024-03-12 13:04:31,361: INFO: common: yaml file: config/config.yaml loaded successfully]\n",
      "[2024-03-12 13:04:31,362: INFO: common: yaml file: params.yaml loaded successfully]\n",
      "[2024-03-12 13:04:31,398: INFO: common: yaml file: schema.yaml loaded successfully]\n",
      "[2024-03-12 13:04:31,403: INFO: common: created directory at: artifacts]\n",
      "[2024-03-12 13:04:31,403: INFO: common: created directory at: artifacts/model_trainer]\n",
      "[2024-03-12 13:04:31,405: INFO: 2462628945: Shape of X_train: (150, 928)]\n",
      "[2024-03-12 13:04:31,405: INFO: 2462628945: Shape of y_train: (150,)]\n"
     ]
    }
   ],
   "source": [
    "try:\n",
    "    config = ConfigurationManager()\n",
    "    model_trainer_config = config.get_model_trainer_config()\n",
    "    obj = ModelTrainer(config=model_trainer_config)\n",
    "    obj.train()\n",
    "\n",
    "except Exception as e:\n",
    "    raise e"
   ]
  },
  {
   "cell_type": "code",
   "execution_count": null,
   "metadata": {},
   "outputs": [],
   "source": []
  }
 ],
 "metadata": {
  "kernelspec": {
   "display_name": "waferspred",
   "language": "python",
   "name": "python3"
  },
  "language_info": {
   "codemirror_mode": {
    "name": "ipython",
    "version": 3
   },
   "file_extension": ".py",
   "mimetype": "text/x-python",
   "name": "python",
   "nbconvert_exporter": "python",
   "pygments_lexer": "ipython3",
   "version": "3.8.18"
  }
 },
 "nbformat": 4,
 "nbformat_minor": 2
}
